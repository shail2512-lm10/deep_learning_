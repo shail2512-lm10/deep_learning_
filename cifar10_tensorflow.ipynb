{
  "nbformat": 4,
  "nbformat_minor": 0,
  "metadata": {
    "colab": {
      "name": "cifar10_tensorflow.ipynb",
      "provenance": [],
      "collapsed_sections": [],
      "mount_file_id": "1oWMf8SijZQbe7SW7-uv6U-0x89M1WfEd",
      "authorship_tag": "ABX9TyMit064F/HQPqRq+wPQwczv",
      "include_colab_link": true
    },
    "kernelspec": {
      "name": "python3",
      "display_name": "Python 3"
    },
    "accelerator": "GPU"
  },
  "cells": [
    {
      "cell_type": "markdown",
      "metadata": {
        "id": "view-in-github",
        "colab_type": "text"
      },
      "source": [
        "<a href=\"https://colab.research.google.com/github/shail2512-lm10/deep_learning_/blob/main/cifar10_tensorflow.ipynb\" target=\"_parent\"><img src=\"https://colab.research.google.com/assets/colab-badge.svg\" alt=\"Open In Colab\"/></a>"
      ]
    },
    {
      "cell_type": "code",
      "metadata": {
        "id": "nr-yNU5ItI3a"
      },
      "source": [
        "import tensorflow as tf\n",
        "import tensorflow_datasets as tfds\n",
        "from tensorflow.keras import layers"
      ],
      "execution_count": null,
      "outputs": []
    },
    {
      "cell_type": "code",
      "metadata": {
        "id": "gNzzJccUtf4M"
      },
      "source": [
        "import numpy as np\n",
        "import matplotlib.pyplot as plt\n",
        "import PIL"
      ],
      "execution_count": null,
      "outputs": []
    },
    {
      "cell_type": "code",
      "metadata": {
        "id": "BKzyq1ctCO2-"
      },
      "source": [
        "tfds.disable_progress_bar()"
      ],
      "execution_count": null,
      "outputs": []
    },
    {
      "cell_type": "code",
      "metadata": {
        "id": "em90AB3OtnMB",
        "colab": {
          "base_uri": "https://localhost:8080/",
          "height": 139
        },
        "outputId": "8d55f7a8-3faa-483f-eee4-a638e7c2c6d2"
      },
      "source": [
        "(train_ds, valid_ds), info = tfds.load('cifar10', split=['train', 'test'], shuffle_files=True, as_supervised=True, with_info=True)"
      ],
      "execution_count": null,
      "outputs": [
        {
          "output_type": "stream",
          "text": [
            "\u001b[1mDownloading and preparing dataset cifar10/3.0.0 (download: 162.17 MiB, generated: Unknown size, total: 162.17 MiB) to /root/tensorflow_datasets/cifar10/3.0.0...\u001b[0m\n"
          ],
          "name": "stdout"
        },
        {
          "output_type": "stream",
          "text": [
            "/usr/local/lib/python3.6/dist-packages/urllib3/connectionpool.py:847: InsecureRequestWarning: Unverified HTTPS request is being made. Adding certificate verification is strongly advised. See: https://urllib3.readthedocs.io/en/latest/advanced-usage.html#ssl-warnings\n",
            "  InsecureRequestWarning)\n"
          ],
          "name": "stderr"
        },
        {
          "output_type": "stream",
          "text": [
            "Shuffling and writing examples to /root/tensorflow_datasets/cifar10/3.0.0.incomplete7AHZ57/cifar10-train.tfrecord\n",
            "Shuffling and writing examples to /root/tensorflow_datasets/cifar10/3.0.0.incomplete7AHZ57/cifar10-test.tfrecord\n",
            "\u001b[1mDataset cifar10 downloaded and prepared to /root/tensorflow_datasets/cifar10/3.0.0. Subsequent calls will reuse this data.\u001b[0m\n"
          ],
          "name": "stdout"
        }
      ]
    },
    {
      "cell_type": "code",
      "metadata": {
        "id": "TKiev31zuHHw",
        "colab": {
          "base_uri": "https://localhost:8080/",
          "height": 51
        },
        "outputId": "3bcf68ff-50d4-4a96-d7cd-3442521348b0"
      },
      "source": [
        "train_ds.element_spec"
      ],
      "execution_count": null,
      "outputs": [
        {
          "output_type": "execute_result",
          "data": {
            "text/plain": [
              "(TensorSpec(shape=(32, 32, 3), dtype=tf.uint8, name=None),\n",
              " TensorSpec(shape=(), dtype=tf.int64, name=None))"
            ]
          },
          "metadata": {
            "tags": []
          },
          "execution_count": 8
        }
      ]
    },
    {
      "cell_type": "code",
      "metadata": {
        "id": "MuNADZBWDtqt"
      },
      "source": [
        ""
      ],
      "execution_count": null,
      "outputs": []
    },
    {
      "cell_type": "code",
      "metadata": {
        "id": "JHYtHBLvujwa"
      },
      "source": [
        "def normalize(image, label):\n",
        "  return tf.cast(image, np.float32)/255.0, label"
      ],
      "execution_count": null,
      "outputs": []
    },
    {
      "cell_type": "code",
      "metadata": {
        "id": "tNwsd2_UyAQj"
      },
      "source": [
        "def augmentation(image, label):\n",
        "  image = tf.image.flip_left_right(image)\n",
        "  image = tf.image.random_brightness(image, max_delta=32.0/255.0)\n",
        "  image = tf.image.random_saturation(image, 0.5, 1.5)\n",
        "  image = tf.cast(image, np.float32)\n",
        "  image = tf.clip_by_value(image, 0.0, 1.0)\n",
        "  image = tf.cast(image, np.float32)\n",
        "\n",
        "  return image, label"
      ],
      "execution_count": null,
      "outputs": []
    },
    {
      "cell_type": "code",
      "metadata": {
        "id": "omRHbkofu-FY"
      },
      "source": [
        "\n",
        "train_ds = train_ds.map(normalize, num_parallel_calls=tf.data.experimental.AUTOTUNE)\n",
        "train_ds = train_ds.cache()\n",
        "train_ds = train_ds.shuffle(50000)\n",
        "train_ds = train_ds.map(augmentation, tf.data.experimental.AUTOTUNE)\n",
        "train_ds = train_ds.batch(64)\n",
        "train_ds = train_ds.prefetch(tf.data.experimental.AUTOTUNE)\n"
      ],
      "execution_count": null,
      "outputs": []
    },
    {
      "cell_type": "code",
      "metadata": {
        "id": "xTgLpO1s_-DC"
      },
      "source": [
        "valid_ds = valid_ds.map(normalize, tf.data.experimental.AUTOTUNE)\n",
        "valid_ds = valid_ds.batch(64)\n",
        "valid_ds = valid_ds.cache()\n",
        "valid_ds = valid_ds.prefetch(tf.data.experimental.AUTOTUNE)"
      ],
      "execution_count": null,
      "outputs": []
    },
    {
      "cell_type": "code",
      "metadata": {
        "id": "22_ti-vx0umX",
        "colab": {
          "base_uri": "https://localhost:8080/",
          "height": 34
        },
        "outputId": "1206c51b-dd97-4026-f0c5-b8ea02cd7421"
      },
      "source": [
        "train_ds"
      ],
      "execution_count": null,
      "outputs": [
        {
          "output_type": "execute_result",
          "data": {
            "text/plain": [
              "<DatasetV1Adapter shapes: ((None, 32, 32, 3), (None,)), types: (tf.float32, tf.int64)>"
            ]
          },
          "metadata": {
            "tags": []
          },
          "execution_count": 10
        }
      ]
    },
    {
      "cell_type": "code",
      "metadata": {
        "id": "PaJEL1lh1CUC"
      },
      "source": [
        "def resnet_block(input_data, filters, kernel_size):\n",
        "  x = layers.Conv2D(filters, kernel_size, padding='same')(input_data)\n",
        "  x = layers.BatchNormalization()(x)\n",
        "  x = layers.ReLU()(x)\n",
        "  x = layers.Conv2D(filters, kernel_size, padding='same')(x)\n",
        "  x = layers.BatchNormalization()(x)\n",
        "  x = layers.Add()([x, input_data])\n",
        "  x = layers.Activation('relu')(x)\n",
        "  x = layers.Dropout(0.2)(x)\n",
        "  return x"
      ],
      "execution_count": null,
      "outputs": []
    },
    {
      "cell_type": "code",
      "metadata": {
        "id": "LKoUMgN5C58_"
      },
      "source": [
        "inputs = tf.keras.Input([32, 32, 3])"
      ],
      "execution_count": null,
      "outputs": []
    },
    {
      "cell_type": "code",
      "metadata": {
        "id": "ITBdhYbcDo2N"
      },
      "source": [
        "x = layers.Conv2D(32, 3, padding='same', activation='relu')(inputs)\n",
        "x = layers.Conv2D(64, 3, padding='same')(x)\n",
        "x = layers.MaxPool2D()(x)\n",
        "x = resnet_block(x, 64, 3)\n",
        "x = resnet_block(x, 64, 3)\n",
        "x = resnet_block(x, 64, 3)\n",
        "x = resnet_block(x, 64, 3)\n",
        "x = resnet_block(x, 64, 3)\n",
        "x = resnet_block(x, 64, 3)\n",
        "x = resnet_block(x, 64, 3)\n",
        "x = resnet_block(x, 64, 3)\n",
        "x = resnet_block(x, 64, 3)\n",
        "x = resnet_block(x, 64, 3)\n",
        "x = layers.Conv2D(128, 3, padding='same', activation='relu')(x)\n",
        "x = layers.BatchNormalization()(x)\n",
        "x = layers.Conv2D(256, 3, padding='same', activation='relu')(x)\n",
        "x = layers.BatchNormalization()(x)\n",
        "x = layers.MaxPool2D()(x)\n",
        "x = layers.Conv2D(512, 3, padding='same', activation='relu')(x)\n",
        "x = layers.BatchNormalization()(x)\n",
        "x = layers.MaxPool2D()(x)\n",
        "x = layers.Dropout(0.2)(x)\n",
        "x = layers.Flatten()(x)\n",
        "x = layers.Dense(512, activation='relu')(x)\n",
        "outputs = layers.Dense(10, activation='softmax')(x)"
      ],
      "execution_count": null,
      "outputs": []
    },
    {
      "cell_type": "code",
      "metadata": {
        "id": "ccO13586G3ll"
      },
      "source": [
        "resnet_model = tf.keras.Model(inputs=inputs, outputs=outputs)"
      ],
      "execution_count": null,
      "outputs": []
    },
    {
      "cell_type": "code",
      "metadata": {
        "id": "WkxtRaJOLg_7",
        "colab": {
          "base_uri": "https://localhost:8080/",
          "height": 1000
        },
        "outputId": "354dac7b-5242-430e-c5bd-439a4bf110a9"
      },
      "source": [
        "resnet_model.summary()"
      ],
      "execution_count": null,
      "outputs": [
        {
          "output_type": "stream",
          "text": [
            "Model: \"model_1\"\n",
            "__________________________________________________________________________________________________\n",
            "Layer (type)                    Output Shape         Param #     Connected to                     \n",
            "==================================================================================================\n",
            "input_1 (InputLayer)            [(None, 32, 32, 3)]  0                                            \n",
            "__________________________________________________________________________________________________\n",
            "conv2d_25 (Conv2D)              (None, 32, 32, 32)   896         input_1[0][0]                    \n",
            "__________________________________________________________________________________________________\n",
            "conv2d_26 (Conv2D)              (None, 32, 32, 64)   18496       conv2d_25[0][0]                  \n",
            "__________________________________________________________________________________________________\n",
            "max_pooling2d_3 (MaxPooling2D)  (None, 16, 16, 64)   0           conv2d_26[0][0]                  \n",
            "__________________________________________________________________________________________________\n",
            "conv2d_27 (Conv2D)              (None, 16, 16, 64)   36928       max_pooling2d_3[0][0]            \n",
            "__________________________________________________________________________________________________\n",
            "batch_normalization_23 (BatchNo (None, 16, 16, 64)   256         conv2d_27[0][0]                  \n",
            "__________________________________________________________________________________________________\n",
            "re_lu_10 (ReLU)                 (None, 16, 16, 64)   0           batch_normalization_23[0][0]     \n",
            "__________________________________________________________________________________________________\n",
            "conv2d_28 (Conv2D)              (None, 16, 16, 64)   36928       re_lu_10[0][0]                   \n",
            "__________________________________________________________________________________________________\n",
            "batch_normalization_24 (BatchNo (None, 16, 16, 64)   256         conv2d_28[0][0]                  \n",
            "__________________________________________________________________________________________________\n",
            "add_10 (Add)                    (None, 16, 16, 64)   0           batch_normalization_24[0][0]     \n",
            "                                                                 max_pooling2d_3[0][0]            \n",
            "__________________________________________________________________________________________________\n",
            "activation_10 (Activation)      (None, 16, 16, 64)   0           add_10[0][0]                     \n",
            "__________________________________________________________________________________________________\n",
            "dropout_11 (Dropout)            (None, 16, 16, 64)   0           activation_10[0][0]              \n",
            "__________________________________________________________________________________________________\n",
            "conv2d_29 (Conv2D)              (None, 16, 16, 64)   36928       dropout_11[0][0]                 \n",
            "__________________________________________________________________________________________________\n",
            "batch_normalization_25 (BatchNo (None, 16, 16, 64)   256         conv2d_29[0][0]                  \n",
            "__________________________________________________________________________________________________\n",
            "re_lu_11 (ReLU)                 (None, 16, 16, 64)   0           batch_normalization_25[0][0]     \n",
            "__________________________________________________________________________________________________\n",
            "conv2d_30 (Conv2D)              (None, 16, 16, 64)   36928       re_lu_11[0][0]                   \n",
            "__________________________________________________________________________________________________\n",
            "batch_normalization_26 (BatchNo (None, 16, 16, 64)   256         conv2d_30[0][0]                  \n",
            "__________________________________________________________________________________________________\n",
            "add_11 (Add)                    (None, 16, 16, 64)   0           batch_normalization_26[0][0]     \n",
            "                                                                 dropout_11[0][0]                 \n",
            "__________________________________________________________________________________________________\n",
            "activation_11 (Activation)      (None, 16, 16, 64)   0           add_11[0][0]                     \n",
            "__________________________________________________________________________________________________\n",
            "dropout_12 (Dropout)            (None, 16, 16, 64)   0           activation_11[0][0]              \n",
            "__________________________________________________________________________________________________\n",
            "conv2d_31 (Conv2D)              (None, 16, 16, 64)   36928       dropout_12[0][0]                 \n",
            "__________________________________________________________________________________________________\n",
            "batch_normalization_27 (BatchNo (None, 16, 16, 64)   256         conv2d_31[0][0]                  \n",
            "__________________________________________________________________________________________________\n",
            "re_lu_12 (ReLU)                 (None, 16, 16, 64)   0           batch_normalization_27[0][0]     \n",
            "__________________________________________________________________________________________________\n",
            "conv2d_32 (Conv2D)              (None, 16, 16, 64)   36928       re_lu_12[0][0]                   \n",
            "__________________________________________________________________________________________________\n",
            "batch_normalization_28 (BatchNo (None, 16, 16, 64)   256         conv2d_32[0][0]                  \n",
            "__________________________________________________________________________________________________\n",
            "add_12 (Add)                    (None, 16, 16, 64)   0           batch_normalization_28[0][0]     \n",
            "                                                                 dropout_12[0][0]                 \n",
            "__________________________________________________________________________________________________\n",
            "activation_12 (Activation)      (None, 16, 16, 64)   0           add_12[0][0]                     \n",
            "__________________________________________________________________________________________________\n",
            "dropout_13 (Dropout)            (None, 16, 16, 64)   0           activation_12[0][0]              \n",
            "__________________________________________________________________________________________________\n",
            "conv2d_33 (Conv2D)              (None, 16, 16, 64)   36928       dropout_13[0][0]                 \n",
            "__________________________________________________________________________________________________\n",
            "batch_normalization_29 (BatchNo (None, 16, 16, 64)   256         conv2d_33[0][0]                  \n",
            "__________________________________________________________________________________________________\n",
            "re_lu_13 (ReLU)                 (None, 16, 16, 64)   0           batch_normalization_29[0][0]     \n",
            "__________________________________________________________________________________________________\n",
            "conv2d_34 (Conv2D)              (None, 16, 16, 64)   36928       re_lu_13[0][0]                   \n",
            "__________________________________________________________________________________________________\n",
            "batch_normalization_30 (BatchNo (None, 16, 16, 64)   256         conv2d_34[0][0]                  \n",
            "__________________________________________________________________________________________________\n",
            "add_13 (Add)                    (None, 16, 16, 64)   0           batch_normalization_30[0][0]     \n",
            "                                                                 dropout_13[0][0]                 \n",
            "__________________________________________________________________________________________________\n",
            "activation_13 (Activation)      (None, 16, 16, 64)   0           add_13[0][0]                     \n",
            "__________________________________________________________________________________________________\n",
            "dropout_14 (Dropout)            (None, 16, 16, 64)   0           activation_13[0][0]              \n",
            "__________________________________________________________________________________________________\n",
            "conv2d_35 (Conv2D)              (None, 16, 16, 64)   36928       dropout_14[0][0]                 \n",
            "__________________________________________________________________________________________________\n",
            "batch_normalization_31 (BatchNo (None, 16, 16, 64)   256         conv2d_35[0][0]                  \n",
            "__________________________________________________________________________________________________\n",
            "re_lu_14 (ReLU)                 (None, 16, 16, 64)   0           batch_normalization_31[0][0]     \n",
            "__________________________________________________________________________________________________\n",
            "conv2d_36 (Conv2D)              (None, 16, 16, 64)   36928       re_lu_14[0][0]                   \n",
            "__________________________________________________________________________________________________\n",
            "batch_normalization_32 (BatchNo (None, 16, 16, 64)   256         conv2d_36[0][0]                  \n",
            "__________________________________________________________________________________________________\n",
            "add_14 (Add)                    (None, 16, 16, 64)   0           batch_normalization_32[0][0]     \n",
            "                                                                 dropout_14[0][0]                 \n",
            "__________________________________________________________________________________________________\n",
            "activation_14 (Activation)      (None, 16, 16, 64)   0           add_14[0][0]                     \n",
            "__________________________________________________________________________________________________\n",
            "dropout_15 (Dropout)            (None, 16, 16, 64)   0           activation_14[0][0]              \n",
            "__________________________________________________________________________________________________\n",
            "conv2d_37 (Conv2D)              (None, 16, 16, 64)   36928       dropout_15[0][0]                 \n",
            "__________________________________________________________________________________________________\n",
            "batch_normalization_33 (BatchNo (None, 16, 16, 64)   256         conv2d_37[0][0]                  \n",
            "__________________________________________________________________________________________________\n",
            "re_lu_15 (ReLU)                 (None, 16, 16, 64)   0           batch_normalization_33[0][0]     \n",
            "__________________________________________________________________________________________________\n",
            "conv2d_38 (Conv2D)              (None, 16, 16, 64)   36928       re_lu_15[0][0]                   \n",
            "__________________________________________________________________________________________________\n",
            "batch_normalization_34 (BatchNo (None, 16, 16, 64)   256         conv2d_38[0][0]                  \n",
            "__________________________________________________________________________________________________\n",
            "add_15 (Add)                    (None, 16, 16, 64)   0           batch_normalization_34[0][0]     \n",
            "                                                                 dropout_15[0][0]                 \n",
            "__________________________________________________________________________________________________\n",
            "activation_15 (Activation)      (None, 16, 16, 64)   0           add_15[0][0]                     \n",
            "__________________________________________________________________________________________________\n",
            "dropout_16 (Dropout)            (None, 16, 16, 64)   0           activation_15[0][0]              \n",
            "__________________________________________________________________________________________________\n",
            "conv2d_39 (Conv2D)              (None, 16, 16, 64)   36928       dropout_16[0][0]                 \n",
            "__________________________________________________________________________________________________\n",
            "batch_normalization_35 (BatchNo (None, 16, 16, 64)   256         conv2d_39[0][0]                  \n",
            "__________________________________________________________________________________________________\n",
            "re_lu_16 (ReLU)                 (None, 16, 16, 64)   0           batch_normalization_35[0][0]     \n",
            "__________________________________________________________________________________________________\n",
            "conv2d_40 (Conv2D)              (None, 16, 16, 64)   36928       re_lu_16[0][0]                   \n",
            "__________________________________________________________________________________________________\n",
            "batch_normalization_36 (BatchNo (None, 16, 16, 64)   256         conv2d_40[0][0]                  \n",
            "__________________________________________________________________________________________________\n",
            "add_16 (Add)                    (None, 16, 16, 64)   0           batch_normalization_36[0][0]     \n",
            "                                                                 dropout_16[0][0]                 \n",
            "__________________________________________________________________________________________________\n",
            "activation_16 (Activation)      (None, 16, 16, 64)   0           add_16[0][0]                     \n",
            "__________________________________________________________________________________________________\n",
            "dropout_17 (Dropout)            (None, 16, 16, 64)   0           activation_16[0][0]              \n",
            "__________________________________________________________________________________________________\n",
            "conv2d_41 (Conv2D)              (None, 16, 16, 64)   36928       dropout_17[0][0]                 \n",
            "__________________________________________________________________________________________________\n",
            "batch_normalization_37 (BatchNo (None, 16, 16, 64)   256         conv2d_41[0][0]                  \n",
            "__________________________________________________________________________________________________\n",
            "re_lu_17 (ReLU)                 (None, 16, 16, 64)   0           batch_normalization_37[0][0]     \n",
            "__________________________________________________________________________________________________\n",
            "conv2d_42 (Conv2D)              (None, 16, 16, 64)   36928       re_lu_17[0][0]                   \n",
            "__________________________________________________________________________________________________\n",
            "batch_normalization_38 (BatchNo (None, 16, 16, 64)   256         conv2d_42[0][0]                  \n",
            "__________________________________________________________________________________________________\n",
            "add_17 (Add)                    (None, 16, 16, 64)   0           batch_normalization_38[0][0]     \n",
            "                                                                 dropout_17[0][0]                 \n",
            "__________________________________________________________________________________________________\n",
            "activation_17 (Activation)      (None, 16, 16, 64)   0           add_17[0][0]                     \n",
            "__________________________________________________________________________________________________\n",
            "dropout_18 (Dropout)            (None, 16, 16, 64)   0           activation_17[0][0]              \n",
            "__________________________________________________________________________________________________\n",
            "conv2d_43 (Conv2D)              (None, 16, 16, 64)   36928       dropout_18[0][0]                 \n",
            "__________________________________________________________________________________________________\n",
            "batch_normalization_39 (BatchNo (None, 16, 16, 64)   256         conv2d_43[0][0]                  \n",
            "__________________________________________________________________________________________________\n",
            "re_lu_18 (ReLU)                 (None, 16, 16, 64)   0           batch_normalization_39[0][0]     \n",
            "__________________________________________________________________________________________________\n",
            "conv2d_44 (Conv2D)              (None, 16, 16, 64)   36928       re_lu_18[0][0]                   \n",
            "__________________________________________________________________________________________________\n",
            "batch_normalization_40 (BatchNo (None, 16, 16, 64)   256         conv2d_44[0][0]                  \n",
            "__________________________________________________________________________________________________\n",
            "add_18 (Add)                    (None, 16, 16, 64)   0           batch_normalization_40[0][0]     \n",
            "                                                                 dropout_18[0][0]                 \n",
            "__________________________________________________________________________________________________\n",
            "activation_18 (Activation)      (None, 16, 16, 64)   0           add_18[0][0]                     \n",
            "__________________________________________________________________________________________________\n",
            "dropout_19 (Dropout)            (None, 16, 16, 64)   0           activation_18[0][0]              \n",
            "__________________________________________________________________________________________________\n",
            "conv2d_45 (Conv2D)              (None, 16, 16, 64)   36928       dropout_19[0][0]                 \n",
            "__________________________________________________________________________________________________\n",
            "batch_normalization_41 (BatchNo (None, 16, 16, 64)   256         conv2d_45[0][0]                  \n",
            "__________________________________________________________________________________________________\n",
            "re_lu_19 (ReLU)                 (None, 16, 16, 64)   0           batch_normalization_41[0][0]     \n",
            "__________________________________________________________________________________________________\n",
            "conv2d_46 (Conv2D)              (None, 16, 16, 64)   36928       re_lu_19[0][0]                   \n",
            "__________________________________________________________________________________________________\n",
            "batch_normalization_42 (BatchNo (None, 16, 16, 64)   256         conv2d_46[0][0]                  \n",
            "__________________________________________________________________________________________________\n",
            "add_19 (Add)                    (None, 16, 16, 64)   0           batch_normalization_42[0][0]     \n",
            "                                                                 dropout_19[0][0]                 \n",
            "__________________________________________________________________________________________________\n",
            "activation_19 (Activation)      (None, 16, 16, 64)   0           add_19[0][0]                     \n",
            "__________________________________________________________________________________________________\n",
            "dropout_20 (Dropout)            (None, 16, 16, 64)   0           activation_19[0][0]              \n",
            "__________________________________________________________________________________________________\n",
            "conv2d_47 (Conv2D)              (None, 16, 16, 128)  73856       dropout_20[0][0]                 \n",
            "__________________________________________________________________________________________________\n",
            "batch_normalization_43 (BatchNo (None, 16, 16, 128)  512         conv2d_47[0][0]                  \n",
            "__________________________________________________________________________________________________\n",
            "conv2d_48 (Conv2D)              (None, 16, 16, 256)  295168      batch_normalization_43[0][0]     \n",
            "__________________________________________________________________________________________________\n",
            "batch_normalization_44 (BatchNo (None, 16, 16, 256)  1024        conv2d_48[0][0]                  \n",
            "__________________________________________________________________________________________________\n",
            "max_pooling2d_4 (MaxPooling2D)  (None, 8, 8, 256)    0           batch_normalization_44[0][0]     \n",
            "__________________________________________________________________________________________________\n",
            "conv2d_49 (Conv2D)              (None, 8, 8, 512)    1180160     max_pooling2d_4[0][0]            \n",
            "__________________________________________________________________________________________________\n",
            "batch_normalization_45 (BatchNo (None, 8, 8, 512)    2048        conv2d_49[0][0]                  \n",
            "__________________________________________________________________________________________________\n",
            "max_pooling2d_5 (MaxPooling2D)  (None, 4, 4, 512)    0           batch_normalization_45[0][0]     \n",
            "__________________________________________________________________________________________________\n",
            "dropout_21 (Dropout)            (None, 4, 4, 512)    0           max_pooling2d_5[0][0]            \n",
            "__________________________________________________________________________________________________\n",
            "flatten (Flatten)               (None, 8192)         0           dropout_21[0][0]                 \n",
            "__________________________________________________________________________________________________\n",
            "dense_2 (Dense)                 (None, 512)          4194816     flatten[0][0]                    \n",
            "__________________________________________________________________________________________________\n",
            "dense_3 (Dense)                 (None, 10)           5130        dense_2[0][0]                    \n",
            "==================================================================================================\n",
            "Total params: 6,515,786\n",
            "Trainable params: 6,511,434\n",
            "Non-trainable params: 4,352\n",
            "__________________________________________________________________________________________________\n"
          ],
          "name": "stdout"
        }
      ]
    },
    {
      "cell_type": "code",
      "metadata": {
        "id": "Bbs02uE-IkJW"
      },
      "source": [
        "%load_ext tensorboard"
      ],
      "execution_count": null,
      "outputs": []
    },
    {
      "cell_type": "code",
      "metadata": {
        "id": "FxGIxah2qrjk"
      },
      "source": [
        "import datetime\n",
        "import os"
      ],
      "execution_count": null,
      "outputs": []
    },
    {
      "cell_type": "code",
      "metadata": {
        "id": "0UZSTPPJqwLC"
      },
      "source": [
        "def tensorboard_callback():\n",
        "  logdir = os.path.join(\"drive/My Drive/logs\", datetime.datetime.now().strftime(\"%d-%m-%Y__%H:%M:%S\"))\n",
        "  return tf.keras.callbacks.TensorBoard(logdir)"
      ],
      "execution_count": null,
      "outputs": []
    },
    {
      "cell_type": "code",
      "metadata": {
        "id": "y8ZcP55QrstU"
      },
      "source": [
        "early_stopping = tf.keras.callbacks.EarlyStopping('val_accuracy', patience=5)"
      ],
      "execution_count": null,
      "outputs": []
    },
    {
      "cell_type": "code",
      "metadata": {
        "id": "xEOH7srz09WK"
      },
      "source": [
        "tensorboard = tensorboard_callback()"
      ],
      "execution_count": null,
      "outputs": []
    },
    {
      "cell_type": "code",
      "metadata": {
        "id": "0ubsDHBV22wp"
      },
      "source": [
        "resnet_model.compile(optimizer=tf.keras.optimizers.Adam(5*0.0001), loss='sparse_categorical_crossentropy', metrics=['accuracy'])"
      ],
      "execution_count": null,
      "outputs": []
    },
    {
      "cell_type": "code",
      "metadata": {
        "id": "RTfX4hBz1cDx",
        "colab": {
          "base_uri": "https://localhost:8080/",
          "height": 765
        },
        "outputId": "2aa1d2d0-47bc-48ba-d76a-6dd5fbc63409"
      },
      "source": [
        "history = resnet_model.fit(x = train_ds, epochs=50, callbacks=[tensorboard, early_stopping], validation_data=valid_ds, validation_freq=1)"
      ],
      "execution_count": null,
      "outputs": [
        {
          "output_type": "stream",
          "text": [
            "Epoch 1/50\n",
            "782/782 [==============================] - 127s 162ms/step - loss: 1.2139 - accuracy: 0.5639 - val_loss: 1.9339 - val_accuracy: 0.4681\n",
            "Epoch 2/50\n",
            "782/782 [==============================] - 126s 161ms/step - loss: 0.9064 - accuracy: 0.6783 - val_loss: 1.0445 - val_accuracy: 0.6571\n",
            "Epoch 3/50\n",
            "782/782 [==============================] - 126s 161ms/step - loss: 0.7686 - accuracy: 0.7300 - val_loss: 0.8889 - val_accuracy: 0.7002\n",
            "Epoch 4/50\n",
            "782/782 [==============================] - 126s 161ms/step - loss: 0.6788 - accuracy: 0.7635 - val_loss: 0.9404 - val_accuracy: 0.7008\n",
            "Epoch 5/50\n",
            "782/782 [==============================] - 126s 161ms/step - loss: 0.6100 - accuracy: 0.7865 - val_loss: 0.7334 - val_accuracy: 0.7516\n",
            "Epoch 6/50\n",
            "782/782 [==============================] - 125s 160ms/step - loss: 0.5533 - accuracy: 0.8069 - val_loss: 0.7737 - val_accuracy: 0.7487\n",
            "Epoch 7/50\n",
            "782/782 [==============================] - 125s 160ms/step - loss: 0.5063 - accuracy: 0.8225 - val_loss: 0.6823 - val_accuracy: 0.7825\n",
            "Epoch 8/50\n",
            "782/782 [==============================] - 125s 160ms/step - loss: 0.4606 - accuracy: 0.8383 - val_loss: 0.7551 - val_accuracy: 0.7622\n",
            "Epoch 9/50\n",
            "782/782 [==============================] - 126s 161ms/step - loss: 0.4195 - accuracy: 0.8538 - val_loss: 0.7152 - val_accuracy: 0.7735\n",
            "Epoch 10/50\n",
            "782/782 [==============================] - 126s 161ms/step - loss: 0.3755 - accuracy: 0.8685 - val_loss: 0.6976 - val_accuracy: 0.7832\n",
            "Epoch 11/50\n",
            "782/782 [==============================] - 126s 161ms/step - loss: 0.3499 - accuracy: 0.8755 - val_loss: 0.6236 - val_accuracy: 0.8073\n",
            "Epoch 12/50\n",
            "782/782 [==============================] - 126s 161ms/step - loss: 0.3130 - accuracy: 0.8901 - val_loss: 0.7295 - val_accuracy: 0.7822\n",
            "Epoch 13/50\n",
            "782/782 [==============================] - 126s 161ms/step - loss: 0.2871 - accuracy: 0.8983 - val_loss: 0.6175 - val_accuracy: 0.8183\n",
            "Epoch 14/50\n",
            "782/782 [==============================] - 125s 160ms/step - loss: 0.2577 - accuracy: 0.9103 - val_loss: 0.6568 - val_accuracy: 0.8201\n",
            "Epoch 15/50\n",
            "782/782 [==============================] - 126s 161ms/step - loss: 0.2340 - accuracy: 0.9165 - val_loss: 0.6559 - val_accuracy: 0.8153\n",
            "Epoch 16/50\n",
            "782/782 [==============================] - 126s 161ms/step - loss: 0.2103 - accuracy: 0.9245 - val_loss: 0.6675 - val_accuracy: 0.8202\n",
            "Epoch 17/50\n",
            "782/782 [==============================] - 126s 161ms/step - loss: 0.1906 - accuracy: 0.9321 - val_loss: 0.6781 - val_accuracy: 0.8221\n",
            "Epoch 18/50\n",
            "782/782 [==============================] - 126s 161ms/step - loss: 0.1765 - accuracy: 0.9376 - val_loss: 0.8348 - val_accuracy: 0.7833\n",
            "Epoch 19/50\n",
            "782/782 [==============================] - 126s 161ms/step - loss: 0.1633 - accuracy: 0.9430 - val_loss: 0.9787 - val_accuracy: 0.7867\n",
            "Epoch 20/50\n",
            "782/782 [==============================] - 126s 161ms/step - loss: 0.1441 - accuracy: 0.9489 - val_loss: 0.7535 - val_accuracy: 0.8096\n",
            "Epoch 21/50\n",
            "782/782 [==============================] - 126s 162ms/step - loss: 0.1327 - accuracy: 0.9533 - val_loss: 0.8308 - val_accuracy: 0.8061\n",
            "Epoch 22/50\n",
            "782/782 [==============================] - 126s 161ms/step - loss: 0.1303 - accuracy: 0.9548 - val_loss: 0.8271 - val_accuracy: 0.8149\n"
          ],
          "name": "stdout"
        }
      ]
    },
    {
      "cell_type": "code",
      "metadata": {
        "id": "8yp8BW382zUS"
      },
      "source": [
        "!pip install -q pyyaml h5py"
      ],
      "execution_count": null,
      "outputs": []
    },
    {
      "cell_type": "code",
      "metadata": {
        "id": "2_gxrWlL7Sfy",
        "colab": {
          "base_uri": "https://localhost:8080/",
          "height": 173
        },
        "outputId": "3374b087-eed9-45c4-e896-e9ae0b3fce01"
      },
      "source": [
        "resnet_model.save('drive/My Drive/models/resnet_1')"
      ],
      "execution_count": null,
      "outputs": [
        {
          "output_type": "stream",
          "text": [
            "WARNING:tensorflow:From /usr/local/lib/python3.6/dist-packages/tensorflow/python/ops/resource_variable_ops.py:1817: calling BaseResourceVariable.__init__ (from tensorflow.python.ops.resource_variable_ops) with constraint is deprecated and will be removed in a future version.\n",
            "Instructions for updating:\n",
            "If using Keras pass *_constraint arguments to layers.\n"
          ],
          "name": "stdout"
        },
        {
          "output_type": "stream",
          "text": [
            "WARNING:tensorflow:From /usr/local/lib/python3.6/dist-packages/tensorflow/python/ops/resource_variable_ops.py:1817: calling BaseResourceVariable.__init__ (from tensorflow.python.ops.resource_variable_ops) with constraint is deprecated and will be removed in a future version.\n",
            "Instructions for updating:\n",
            "If using Keras pass *_constraint arguments to layers.\n"
          ],
          "name": "stderr"
        },
        {
          "output_type": "stream",
          "text": [
            "INFO:tensorflow:Assets written to: drive/My Drive/models/resnet_1/assets\n"
          ],
          "name": "stdout"
        },
        {
          "output_type": "stream",
          "text": [
            "INFO:tensorflow:Assets written to: drive/My Drive/models/resnet_1/assets\n"
          ],
          "name": "stderr"
        }
      ]
    },
    {
      "cell_type": "code",
      "metadata": {
        "id": "LtUAhCV8nkHy"
      },
      "source": [
        ""
      ],
      "execution_count": null,
      "outputs": []
    },
    {
      "cell_type": "code",
      "metadata": {
        "id": "bhLRAmI2Kvvx"
      },
      "source": [
        "res_model = tf.keras.models.load_model('drive/My Drive/models/resnet_1')"
      ],
      "execution_count": null,
      "outputs": []
    },
    {
      "cell_type": "code",
      "metadata": {
        "id": "B3PmYpGzTV_z"
      },
      "source": [
        "predictions = res_model.predict(valid_ds)"
      ],
      "execution_count": null,
      "outputs": []
    },
    {
      "cell_type": "code",
      "metadata": {
        "id": "Kuk4EvCtRZaD"
      },
      "source": [
        "classes = ['airplane','automobile','bird','cat','deer','dog','frog','horse','sheep','truck']"
      ],
      "execution_count": null,
      "outputs": []
    },
    {
      "cell_type": "code",
      "metadata": {
        "id": "haoPnylUPiaa"
      },
      "source": [
        "def get_prediction_label(prediction_proba):\n",
        "  return classes[np.argmax(prediction_proba)]"
      ],
      "execution_count": null,
      "outputs": []
    },
    {
      "cell_type": "code",
      "metadata": {
        "id": "IVkn7zy9UJSm"
      },
      "source": [
        "pred_label = get_prediction_label(predictions[0])"
      ],
      "execution_count": null,
      "outputs": []
    },
    {
      "cell_type": "code",
      "metadata": {
        "id": "lR6CLR8lUPZ8",
        "colab": {
          "base_uri": "https://localhost:8080/",
          "height": 34
        },
        "outputId": "8d997f6f-cd87-43f8-f6eb-ee8a838fe465"
      },
      "source": [
        "pred_label"
      ],
      "execution_count": null,
      "outputs": [
        {
          "output_type": "execute_result",
          "data": {
            "text/plain": [
              "'horse'"
            ]
          },
          "metadata": {
            "tags": []
          },
          "execution_count": 22
        }
      ]
    },
    {
      "cell_type": "code",
      "metadata": {
        "id": "h-HhS4WdURog"
      },
      "source": [
        "images_ = []\n",
        "labels_ = []\n",
        "\n",
        "for image, label in valid_ds.unbatch().as_numpy_iterator():\n",
        "  images_.append(image)\n",
        "  labels_.append(label)"
      ],
      "execution_count": null,
      "outputs": []
    },
    {
      "cell_type": "code",
      "metadata": {
        "id": "OG7H4nOIVIrS",
        "colab": {
          "base_uri": "https://localhost:8080/",
          "height": 850
        },
        "outputId": "2f21092c-3649-4bbc-a367-d4d418f392ed"
      },
      "source": [
        "images_[0], labels_[0]"
      ],
      "execution_count": null,
      "outputs": [
        {
          "output_type": "execute_result",
          "data": {
            "text/plain": [
              "(array([[[0.7058824 , 0.7294118 , 0.7411765 ],\n",
              "         [0.6313726 , 0.654902  , 0.65882355],\n",
              "         [0.54901963, 0.57254905, 0.5568628 ],\n",
              "         ...,\n",
              "         [0.20392157, 0.21568628, 0.15686275],\n",
              "         [0.2       , 0.21568628, 0.15686275],\n",
              "         [0.2       , 0.21176471, 0.15686275]],\n",
              " \n",
              "        [[0.6745098 , 0.69803923, 0.6901961 ],\n",
              "         [0.5882353 , 0.6117647 , 0.6       ],\n",
              "         [0.4627451 , 0.49019608, 0.4627451 ],\n",
              "         ...,\n",
              "         [0.1764706 , 0.18431373, 0.12941177],\n",
              "         [0.16862746, 0.1764706 , 0.12156863],\n",
              "         [0.17254902, 0.1882353 , 0.13333334]],\n",
              " \n",
              "        [[0.6313726 , 0.65882355, 0.627451  ],\n",
              "         [0.5764706 , 0.60784316, 0.57254905],\n",
              "         [0.47058824, 0.49803922, 0.4627451 ],\n",
              "         ...,\n",
              "         [0.16470589, 0.1882353 , 0.12941177],\n",
              "         [0.16862746, 0.19607843, 0.13333334],\n",
              "         [0.18039216, 0.21960784, 0.15294118]],\n",
              " \n",
              "        ...,\n",
              " \n",
              "        [[0.9764706 , 0.9764706 , 0.9764706 ],\n",
              "         [0.99215686, 0.99215686, 0.99215686],\n",
              "         [0.9882353 , 0.9882353 , 0.9882353 ],\n",
              "         ...,\n",
              "         [0.99607843, 0.99607843, 0.99607843],\n",
              "         [1.        , 1.        , 1.        ],\n",
              "         [0.9843137 , 0.9843137 , 0.9843137 ]],\n",
              " \n",
              "        [[0.9764706 , 0.9764706 , 0.9764706 ],\n",
              "         [0.99215686, 0.99215686, 0.99215686],\n",
              "         [0.9882353 , 0.9882353 , 0.9882353 ],\n",
              "         ...,\n",
              "         [0.99607843, 0.99607843, 0.99607843],\n",
              "         [1.        , 1.        , 1.        ],\n",
              "         [0.9882353 , 0.9882353 , 0.9882353 ]],\n",
              " \n",
              "        [[0.9764706 , 0.9764706 , 0.9764706 ],\n",
              "         [0.99215686, 0.99215686, 0.99215686],\n",
              "         [0.9882353 , 0.9882353 , 0.9882353 ],\n",
              "         ...,\n",
              "         [0.99607843, 0.99607843, 0.99607843],\n",
              "         [1.        , 1.        , 1.        ],\n",
              "         [0.98039216, 0.98039216, 0.98039216]]], dtype=float32), 7)"
            ]
          },
          "metadata": {
            "tags": []
          },
          "execution_count": 26
        }
      ]
    },
    {
      "cell_type": "code",
      "metadata": {
        "id": "3HSnCsOgVMzE",
        "colab": {
          "base_uri": "https://localhost:8080/",
          "height": 34
        },
        "outputId": "9fa61a95-0145-47ea-d577-c6758baa87b3"
      },
      "source": [
        ""
      ],
      "execution_count": null,
      "outputs": [
        {
          "output_type": "execute_result",
          "data": {
            "text/plain": [
              "'airplane'"
            ]
          },
          "metadata": {
            "tags": []
          },
          "execution_count": 29
        }
      ]
    },
    {
      "cell_type": "code",
      "metadata": {
        "id": "sfbfOuCpVkVY",
        "colab": {
          "base_uri": "https://localhost:8080/",
          "height": 34
        },
        "outputId": "63e6bb2f-0d43-4442-e558-b6c655c9d5d4"
      },
      "source": [
        "get_prediction_label(predictions[1])"
      ],
      "execution_count": null,
      "outputs": [
        {
          "output_type": "execute_result",
          "data": {
            "text/plain": [
              "'airplane'"
            ]
          },
          "metadata": {
            "tags": []
          },
          "execution_count": 30
        }
      ]
    },
    {
      "cell_type": "code",
      "metadata": {
        "id": "cgnAhTGlVrEa"
      },
      "source": [
        "def plot_predictions(prediction_proba, labels, images, n):\n",
        "  pred_prob, true_label, image = prediction_proba[n], labels[n], images[n]\n",
        "\n",
        "  pred_label = get_prediction_label(pred_prob)\n",
        "  true_label = classes[true_label]\n",
        "\n",
        "  if pred_label == true_label:\n",
        "    color = 'green'\n",
        "  else:\n",
        "    color = 'red'\n",
        "\n",
        "  plt.imshow(image)\n",
        "  plt.xticks()\n",
        "  plt.yticks()\n",
        "  plt.title('{} / {:2.0f}% / {}'.format(pred_label, np.max(pred_prob)*100, true_label), color=color)\n"
      ],
      "execution_count": null,
      "outputs": []
    },
    {
      "cell_type": "code",
      "metadata": {
        "id": "ACxNVdmbYUq5",
        "colab": {
          "base_uri": "https://localhost:8080/",
          "height": 281
        },
        "outputId": "5140a3cf-167d-4772-8dab-5e74db2af545"
      },
      "source": [
        "plot_predictions(predictions, labels_, images_, 0)"
      ],
      "execution_count": null,
      "outputs": [
        {
          "output_type": "display_data",
          "data": {
            "image/png": "[encoded data removed]",
            "text/plain": [
              "<Figure size 432x288 with 1 Axes>"
            ]
          },
          "metadata": {
            "tags": [],
            "needs_background": "light"
          }
        }
      ]
    },
    {
      "cell_type": "code",
      "metadata": {
        "id": "6nIoZUBOYdfU"
      },
      "source": [
        ""
      ],
      "execution_count": null,
      "outputs": []
    }
  ]
}